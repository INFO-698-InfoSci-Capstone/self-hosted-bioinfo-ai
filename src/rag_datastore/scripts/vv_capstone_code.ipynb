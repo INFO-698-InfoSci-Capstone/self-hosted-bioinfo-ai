{
 "cells": [
  {
   "cell_type": "markdown",
   "metadata": {},
   "source": [
    "## Converting and Storing Embeddings Locally."
   ]
  },
  {
   "cell_type": "code",
   "execution_count": 2,
   "metadata": {},
   "outputs": [
    {
     "data": {
      "application/vnd.jupyter.widget-view+json": {
       "model_id": "e39063c4f8c64d22ab9995e2e9db8419",
       "version_major": 2,
       "version_minor": 0
      },
      "text/plain": [
       "modules.json:   0%|          | 0.00/349 [00:00<?, ?B/s]"
      ]
     },
     "metadata": {},
     "output_type": "display_data"
    },
    {
     "data": {
      "application/vnd.jupyter.widget-view+json": {
       "model_id": "be1d16a163a24d41b52a0043cbeec9e3",
       "version_major": 2,
       "version_minor": 0
      },
      "text/plain": [
       "config_sentence_transformers.json:   0%|          | 0.00/116 [00:00<?, ?B/s]"
      ]
     },
     "metadata": {},
     "output_type": "display_data"
    },
    {
     "data": {
      "application/vnd.jupyter.widget-view+json": {
       "model_id": "efb2d655bb0e4bcdb82f1089e6b121c1",
       "version_major": 2,
       "version_minor": 0
      },
      "text/plain": [
       "README.md:   0%|          | 0.00/10.5k [00:00<?, ?B/s]"
      ]
     },
     "metadata": {},
     "output_type": "display_data"
    },
    {
     "data": {
      "application/vnd.jupyter.widget-view+json": {
       "model_id": "52d24d60be994d528af488c454e4a43b",
       "version_major": 2,
       "version_minor": 0
      },
      "text/plain": [
       "sentence_bert_config.json:   0%|          | 0.00/53.0 [00:00<?, ?B/s]"
      ]
     },
     "metadata": {},
     "output_type": "display_data"
    },
    {
     "data": {
      "application/vnd.jupyter.widget-view+json": {
       "model_id": "6b2bc5c1a5c04c0a82754d07b48a3ca0",
       "version_major": 2,
       "version_minor": 0
      },
      "text/plain": [
       "config.json:   0%|          | 0.00/612 [00:00<?, ?B/s]"
      ]
     },
     "metadata": {},
     "output_type": "display_data"
    },
    {
     "data": {
      "application/vnd.jupyter.widget-view+json": {
       "model_id": "d928edbc2a7346fa8c5f989c42d4e3dd",
       "version_major": 2,
       "version_minor": 0
      },
      "text/plain": [
       "model.safetensors:   0%|          | 0.00/90.9M [00:00<?, ?B/s]"
      ]
     },
     "metadata": {},
     "output_type": "display_data"
    },
    {
     "data": {
      "application/vnd.jupyter.widget-view+json": {
       "model_id": "aabdf892b2254d2e94785b156c58b098",
       "version_major": 2,
       "version_minor": 0
      },
      "text/plain": [
       "tokenizer_config.json:   0%|          | 0.00/350 [00:00<?, ?B/s]"
      ]
     },
     "metadata": {},
     "output_type": "display_data"
    },
    {
     "data": {
      "application/vnd.jupyter.widget-view+json": {
       "model_id": "41652468dc4d44eeb055a1dc8a52a582",
       "version_major": 2,
       "version_minor": 0
      },
      "text/plain": [
       "vocab.txt:   0%|          | 0.00/232k [00:00<?, ?B/s]"
      ]
     },
     "metadata": {},
     "output_type": "display_data"
    },
    {
     "data": {
      "application/vnd.jupyter.widget-view+json": {
       "model_id": "b9c4d7f596614476bebfbc9393adb10c",
       "version_major": 2,
       "version_minor": 0
      },
      "text/plain": [
       "tokenizer.json:   0%|          | 0.00/466k [00:00<?, ?B/s]"
      ]
     },
     "metadata": {},
     "output_type": "display_data"
    },
    {
     "data": {
      "application/vnd.jupyter.widget-view+json": {
       "model_id": "0b486b10d978471db700ac7fb4612db6",
       "version_major": 2,
       "version_minor": 0
      },
      "text/plain": [
       "special_tokens_map.json:   0%|          | 0.00/112 [00:00<?, ?B/s]"
      ]
     },
     "metadata": {},
     "output_type": "display_data"
    },
    {
     "data": {
      "application/vnd.jupyter.widget-view+json": {
       "model_id": "760258736fd042598e8bcd83179ba4c4",
       "version_major": 2,
       "version_minor": 0
      },
      "text/plain": [
       "config.json:   0%|          | 0.00/190 [00:00<?, ?B/s]"
      ]
     },
     "metadata": {},
     "output_type": "display_data"
    }
   ],
   "source": [
    "from langchain_huggingface import HuggingFaceEmbeddings\n",
    "\n",
    "embeddings = HuggingFaceEmbeddings(model_name=\"sentence-transformers/all-MiniLM-L6-v2\")"
   ]
  },
  {
   "cell_type": "code",
   "execution_count": 4,
   "metadata": {},
   "outputs": [],
   "source": [
    "import faiss\n",
    "from langchain_community.docstore.in_memory import InMemoryDocstore\n",
    "from langchain_community.vectorstores import FAISS\n",
    "\n",
    "embedding_dim = len(embeddings.embed_query(\"hello world\"))\n",
    "index = faiss.IndexFlatL2(embedding_dim)\n",
    "\n",
    "vector_store = FAISS(\n",
    "    embedding_function=embeddings,\n",
    "    index=index,\n",
    "    docstore=InMemoryDocstore(),\n",
    "    index_to_docstore_id={},\n",
    ")"
   ]
  },
  {
   "cell_type": "code",
   "execution_count": 10,
   "metadata": {},
   "outputs": [],
   "source": [
    "from langchain_core.documents import Document\n",
    "from langchain_text_splitters import RecursiveCharacterTextSplitter\n",
    "import json\n",
    "from pathlib import Path\n",
    "\n",
    "path_to_doc = Path('../processed_text/')\n",
    "docs = []\n",
    "for doc in list(path_to_doc.glob('*.json')):\n",
    "    with open(doc,encoding='utf-8-sig') as file:\n",
    "        document=json.load(file)\n",
    "        docs.append(Document(\n",
    "            page_content=document['processed_text'],\n",
    "            metadata = document['metadata']\n",
    "        ))"
   ]
  },
  {
   "cell_type": "code",
   "execution_count": 12,
   "metadata": {},
   "outputs": [],
   "source": [
    "text_splitter = RecursiveCharacterTextSplitter(chunk_size=1000, chunk_overlap=200)\n",
    "all_splits = text_splitter.split_documents(docs)\n",
    "_ = vector_store.add_documents(documents=all_splits)"
   ]
  },
  {
   "cell_type": "code",
   "execution_count": 13,
   "metadata": {},
   "outputs": [],
   "source": [
    "vector_store.save_local(Path(\"../faiss_index_store\"))"
   ]
  },
  {
   "cell_type": "markdown",
   "metadata": {},
   "source": [
    "## Testing Embeddings"
   ]
  },
  {
   "cell_type": "code",
   "execution_count": 14,
   "metadata": {},
   "outputs": [],
   "source": [
    "from langchain_community.vectorstores import FAISS\n",
    "from langchain_huggingface import HuggingFaceEmbeddings\n",
    "\n",
    "# Use the same embedding model\n",
    "embeddings = HuggingFaceEmbeddings(model_name=\"sentence-transformers/all-MiniLM-L6-v2\")\n",
    "\n",
    "# Load the saved index\n",
    "vector_store = FAISS.load_local(\n",
    "    folder_path=\"../faiss_index_store\",\n",
    "    embeddings=embeddings,\n",
    "    allow_dangerous_deserialization=True\n",
    ")\n"
   ]
  },
  {
   "cell_type": "code",
   "execution_count": 15,
   "metadata": {},
   "outputs": [
    {
     "name": "stdout",
     "output_type": "stream",
     "text": [
      "and their association with other minerals was obtained using STEM EDS spectral X-ray mapping. TEM and STEM images of two examples of these U-bearing grains are shown in Figure S1. ### Treatment and Preparation of Single Cells from 3D Colonoids for Single-Cell RNA Sequencing Colonoids used for sequencing are described in Table S1. UBD was diluted in organoid expansion media, then colonoids in Matrigel were treated overnight (18 h) with UBD, with control colonoids receiving the same volume/volume \n"
     ]
    }
   ],
   "source": [
    "doc = vector_store.docstore.search(vector_store.index_to_docstore_id[20])\n",
    "print(doc.page_content[:500])\n"
   ]
  },
  {
   "cell_type": "code",
   "execution_count": 19,
   "metadata": {},
   "outputs": [
    {
     "name": "stdout",
     "output_type": "stream",
     "text": [
      "\n",
      " Result 1:\n",
      "in the human brain Article Open access 01 April 2021 ### Fundamentals of DNA methylation in development Article 10 December 2024 ## INTRODUCTION Genetics is the study of heritable changes in gene activity or function due to the direct alteration of the DNA sequence. Such alterations include point mutations, deletions, insertions, and translocation. In contrast, epigenetics is the study of heritable changes in gene activity or function that is not associated with any change of the DNA sequence itself. Although virtually all cells in an organism contain the same genetic information, not all genes are expressed simultaneously by all cell types. In a broader sense, epigenetic mechanisms mediate the diversified gene expression profiles in a variety of cells and tissues in multicellular organisms. In this chapter, we would introduce a major epigenetic mechanism involving direct chemical modification to the DNA called DNA methylation. Historically, DNA methylation was discovered in mammals\n",
      "\n",
      " Result 2:\n",
      "Cell 148: 816–831. Recent article that identified significant levels of non-CpG DNA methylation in the murine frontal cortex.\")). Because of its recent discovery, the role of non-CpG methylation is still unclear. DNA methylation is essential for silencing retroviral elements, regulating tissue-specific gene expression, genomic imprinting, and X chromosome inactivation. Importantly, DNA methylation in different genomic regions may exert different influences on gene activities based on the underlying genetic sequence. In the following sections, we will further elaborate upon the role of DNA methylation in different genomic regions. ### Intergenic Regions Approximately 45% of the mammalian genome consists of transposable and viral elements that are silenced by bulk methylation (Schulz et al, 2006. Methylation of endogenous human retroelements in health and disease. Curr Top Microbiol Immunol 310: 211–250.\")). The vast majority of these elements are inactivated by DNA methylation or by\n",
      "\n",
      " Result 3:\n",
      "resources that compile a substantial body of methylation data, encompassing different species, cell types, tissue types, and physiological states. These databases typically offer diverse data types that comprise whole genome methylation data, annotated methylation loci information, methylation landscapes, and functionalities and regulations of methylation modifications. Given the large volume of methylation data these databases house, researchers can probe the distribution, regulation, and functions of DNA methylation across the genome by searching and analyzing the available data. Additionally, they can help researchers understand the roles and mechanisms of DNA methylation in biological processes, including gene expression, cell differentiation, development, and disease progression. Research that is based on DNA methylation data necessitates the development and deployment of various bioinformatic tools and algorithms, and these databases provide a vital dataset base and verification\n"
     ]
    }
   ],
   "source": [
    "query = \"methylation\"\n",
    "\n",
    "results = vector_store.similarity_search(query, k=3)  # get top 3 matches\n",
    "\n",
    "for i, res in enumerate(results):\n",
    "    print(f\"\\n Result {i+1}:\")\n",
    "    print(res.page_content)  # show first 300 chars of chunk"
   ]
  },
  {
   "cell_type": "markdown",
   "metadata": {},
   "source": [
    "## Problems\n",
    "\n",
    "- OpenAI token limit exceeded\n",
    "- Any api related models comes with limits\n",
    "- Tried different HuggingFace models\n",
    "    - spectre2\n",
    "    - BioBert\n",
    "    - mpnet \n",
    "    - jinaai\n",
    "- The cosine similarity for all the models is between 0.3 and 0.7\n",
    "- Might be due to latex format in the processed text."
   ]
  }
 ],
 "metadata": {
  "kernelspec": {
   "display_name": "base",
   "language": "python",
   "name": "python3"
  },
  "language_info": {
   "codemirror_mode": {
    "name": "ipython",
    "version": 3
   },
   "file_extension": ".py",
   "mimetype": "text/x-python",
   "name": "python",
   "nbconvert_exporter": "python",
   "pygments_lexer": "ipython3",
   "version": "3.12.7"
  }
 },
 "nbformat": 4,
 "nbformat_minor": 2
}
