{
 "cells": [
  {
   "cell_type": "code",
   "execution_count": 55,
   "id": "9f4fb986-c62d-47ca-ae5d-0ef14e0a3087",
   "metadata": {},
   "outputs": [],
   "source": [
    "# We will be using firecrawl to index documentation sites and subpages\n",
    "# Install with pip install firecrawl\n",
    "from firecrawl import FirecrawlApp\n",
    "\n",
    "app = FirecrawlApp(api_key='fc-9a96cbb456904f48848f7318b1021786')\n",
    "\n",
    "crawl_result = app.crawl_url('https://link.springer.com/content/pdf/10.1007/s11427-023-2561-0.pdf', params={\n",
    "'limit': 10,\n",
    "'scrapeOptions': {\n",
    "\t'formats': [ 'markdown' ],\n",
    "  }\n",
    "})"
   ]
  },
  {
   "cell_type": "code",
   "execution_count": 56,
   "id": "3ddeb2ad-7a62-47a1-89d0-985f91bea4ce",
   "metadata": {},
   "outputs": [],
   "source": [
    "# List of crawled sites\n",
    "\n",
    "# https://www.nature.com/articles/s41586-020-03182-8\n",
    "# https://link.springer.com/content/pdf/10.1007/s11427-023-2561-0.pdf\n",
    "# https://en.wikipedia.org/wiki/Single-cell_transcriptomics\n",
    "# https://en.wikipedia.org/wiki/Single-cell_sequencing\n",
    "\n",
    "# https://hpcdocs.hpc.arizona.edu/\n",
    "# https://satijalab.org/seurat/articles/\n",
    "# https://bioconductor.org/packages/release/bioc/vignettes/methylKit/inst/doc/methylKit.html\n",
    "# https://lashlock.github.io/compbio/R_presentation.html\n"
   ]
  },
  {
   "cell_type": "code",
   "execution_count": null,
   "id": "3c17ae93-b218-4471-85ea-97d5d1bfdfcf",
   "metadata": {},
   "outputs": [],
   "source": [
    "# Inspecting the structure of crawl_result\n",
    "import json\n",
    "print(json.dumps(crawl_result, indent=2))"
   ]
  },
  {
   "cell_type": "code",
   "execution_count": 51,
   "id": "3d950755-047e-45ea-b8f0-f4cbabf38330",
   "metadata": {},
   "outputs": [],
   "source": [
    "import os\n",
    "import json\n",
    "import markdown\n",
    "from bs4 import BeautifulSoup\n",
    "import re\n",
    "\n",
    "def preprocess_markdown(markdown_content):\n",
    "    \"\"\"\n",
    "    Converts markdown content to plain text.\n",
    "    \n",
    "    1. Converts markdown to HTML.\n",
    "    2. Parses the HTML with BeautifulSoup.\n",
    "    3. Extracts and cleans the text.\n",
    "    \n",
    "    Args:\n",
    "      markdown_content (str): The markdown-formatted string.\n",
    "      \n",
    "    Returns:\n",
    "      str: Cleaned plain text.\n",
    "    \"\"\"\n",
    "    html_content = markdown.markdown(markdown_content)\n",
    "    soup = BeautifulSoup(html_content, \"html.parser\")\n",
    "    text = soup.get_text(separator=\" \")\n",
    "    text = re.sub(r'\\s+', ' ', text).strip()\n",
    "    return text\n",
    "\n",
    "# # Assume 'crawl_result' is loaded from your JSON source\n",
    "# # For demonstration, let's say it's loaded from a file:\n",
    "# with open(\"crawl_result_collection.json\", \"r\", encoding=\"utf-8\") as f:\n",
    "#     crawl_result = json.load(f)\n",
    "\n",
    "processed_entries = []\n",
    "for entry in crawl_result.get(\"data\", []):\n",
    "    metadata = entry.get(\"metadata\", {})\n",
    "    status = metadata.get(\"statusCode\", 200)  # default to 200 if not present\n",
    "    # Skip entries that indicate an error (e.g., statusCode != 200) or missing markdown\n",
    "    if status != 200 or not entry.get(\"markdown\"):\n",
    "        continue\n",
    "\n",
    "    raw_markdown = entry.get(\"markdown\", \"\")\n",
    "    processed_text = preprocess_markdown(raw_markdown)\n",
    "    processed_entries.append({\n",
    "         \"processed_text\": processed_text,\n",
    "         \"metadata\": metadata\n",
    "    })"
   ]
  },
  {
   "cell_type": "code",
   "execution_count": null,
   "id": "1e80e1d4-76c5-45fa-9c6d-e52fdee547f3",
   "metadata": {},
   "outputs": [],
   "source": [
    "# check other proc entries\n",
    "print(json.dumps(processed_entries[0], indent=2))"
   ]
  },
  {
   "cell_type": "code",
   "execution_count": 53,
   "id": "62ab1af1-cb01-44a9-8efd-9892f6913ed7",
   "metadata": {},
   "outputs": [
    {
     "name": "stdout",
     "output_type": "stream",
     "text": [
      "Processed entries have been saved to: ../data/pdfs/proc2txt_s11427-023-2561-0.json\n"
     ]
    }
   ],
   "source": [
    "import os\n",
    "import json\n",
    "\n",
    "# Define the target directory relative to the current working directory.\n",
    "# target_dir = os.path.join(\"..\", \"data\", \"KBs\")\n",
    "target_dir = os.path.join(\"..\", \"data\", \"pdfs\")\n",
    "os.makedirs(target_dir, exist_ok=True)\n",
    "\n",
    "# Define the full path for the output file. UPDATE for each new collection.\n",
    "file_path = os.path.join(target_dir, \"proc2txt_s11427-023-2561-0.json\")\n",
    "\n",
    "# Save processed_entries to the JSON file.\n",
    "with open(file_path, 'w', encoding='utf-8') as f:\n",
    "    json.dump(processed_entries, f, ensure_ascii=False, indent=2)\n",
    "\n",
    "print(\"Processed entries have been saved to:\", file_path)\n"
   ]
  },
  {
   "cell_type": "code",
   "execution_count": 1,
   "id": "e2f0b60f-fe9c-4a08-b7b0-d75e4006cec7",
   "metadata": {},
   "outputs": [],
   "source": [
    "############\n",
    "import transformers\n",
    "import flashinfer\n",
    "# from transformers.models.mllama.image_processing_mllama import is_valid_list_of_images\n"
   ]
  }
 ],
 "metadata": {
  "kernelspec": {
   "display_name": "py311_kernel",
   "language": "python",
   "name": "py311_kernel"
  },
  "language_info": {
   "codemirror_mode": {
    "name": "ipython",
    "version": 3
   },
   "file_extension": ".py",
   "mimetype": "text/x-python",
   "name": "python",
   "nbconvert_exporter": "python",
   "pygments_lexer": "ipython3",
   "version": "3.11.11"
  },
  "widgets": {
   "application/vnd.jupyter.widget-state+json": {
    "state": {},
    "version_major": 2,
    "version_minor": 0
   }
  }
 },
 "nbformat": 4,
 "nbformat_minor": 5
}
